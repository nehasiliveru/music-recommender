{
 "cells": [
  {
   "cell_type": "code",
   "execution_count": 1,
   "id": "2384397c",
   "metadata": {},
   "outputs": [],
   "source": [
    "import pandas as pd\n",
    "df=pd.read_csv('spotify_millsongdata.csv')"
   ]
  },
  {
   "cell_type": "code",
   "execution_count": 2,
   "id": "c40b003a",
   "metadata": {},
   "outputs": [
    {
     "data": {
      "text/html": [
       "<div>\n",
       "<style scoped>\n",
       "    .dataframe tbody tr th:only-of-type {\n",
       "        vertical-align: middle;\n",
       "    }\n",
       "\n",
       "    .dataframe tbody tr th {\n",
       "        vertical-align: top;\n",
       "    }\n",
       "\n",
       "    .dataframe thead th {\n",
       "        text-align: right;\n",
       "    }\n",
       "</style>\n",
       "<table border=\"1\" class=\"dataframe\">\n",
       "  <thead>\n",
       "    <tr style=\"text-align: right;\">\n",
       "      <th></th>\n",
       "      <th>artist</th>\n",
       "      <th>song</th>\n",
       "      <th>link</th>\n",
       "      <th>text</th>\n",
       "    </tr>\n",
       "  </thead>\n",
       "  <tbody>\n",
       "    <tr>\n",
       "      <th>0</th>\n",
       "      <td>ABBA</td>\n",
       "      <td>Ahe's My Kind Of Girl</td>\n",
       "      <td>/a/abba/ahes+my+kind+of+girl_20598417.html</td>\n",
       "      <td>Look at her face, it's a wonderful face  \\r\\nA...</td>\n",
       "    </tr>\n",
       "    <tr>\n",
       "      <th>1</th>\n",
       "      <td>ABBA</td>\n",
       "      <td>Andante, Andante</td>\n",
       "      <td>/a/abba/andante+andante_20002708.html</td>\n",
       "      <td>Take it easy with me, please  \\r\\nTouch me gen...</td>\n",
       "    </tr>\n",
       "    <tr>\n",
       "      <th>2</th>\n",
       "      <td>ABBA</td>\n",
       "      <td>As Good As New</td>\n",
       "      <td>/a/abba/as+good+as+new_20003033.html</td>\n",
       "      <td>I'll never know why I had to go  \\r\\nWhy I had...</td>\n",
       "    </tr>\n",
       "    <tr>\n",
       "      <th>3</th>\n",
       "      <td>ABBA</td>\n",
       "      <td>Bang</td>\n",
       "      <td>/a/abba/bang_20598415.html</td>\n",
       "      <td>Making somebody happy is a question of give an...</td>\n",
       "    </tr>\n",
       "    <tr>\n",
       "      <th>4</th>\n",
       "      <td>ABBA</td>\n",
       "      <td>Bang-A-Boomerang</td>\n",
       "      <td>/a/abba/bang+a+boomerang_20002668.html</td>\n",
       "      <td>Making somebody happy is a question of give an...</td>\n",
       "    </tr>\n",
       "  </tbody>\n",
       "</table>\n",
       "</div>"
      ],
      "text/plain": [
       "  artist                   song                                        link  \\\n",
       "0   ABBA  Ahe's My Kind Of Girl  /a/abba/ahes+my+kind+of+girl_20598417.html   \n",
       "1   ABBA       Andante, Andante       /a/abba/andante+andante_20002708.html   \n",
       "2   ABBA         As Good As New        /a/abba/as+good+as+new_20003033.html   \n",
       "3   ABBA                   Bang                  /a/abba/bang_20598415.html   \n",
       "4   ABBA       Bang-A-Boomerang      /a/abba/bang+a+boomerang_20002668.html   \n",
       "\n",
       "                                                text  \n",
       "0  Look at her face, it's a wonderful face  \\r\\nA...  \n",
       "1  Take it easy with me, please  \\r\\nTouch me gen...  \n",
       "2  I'll never know why I had to go  \\r\\nWhy I had...  \n",
       "3  Making somebody happy is a question of give an...  \n",
       "4  Making somebody happy is a question of give an...  "
      ]
     },
     "execution_count": 2,
     "metadata": {},
     "output_type": "execute_result"
    }
   ],
   "source": [
    "df.head(5)"
   ]
  },
  {
   "cell_type": "code",
   "execution_count": 3,
   "id": "e1698e29",
   "metadata": {},
   "outputs": [
    {
     "data": {
      "text/plain": [
       "artist    0\n",
       "song      0\n",
       "link      0\n",
       "text      0\n",
       "dtype: int64"
      ]
     },
     "execution_count": 3,
     "metadata": {},
     "output_type": "execute_result"
    }
   ],
   "source": [
    "df.isnull().sum()"
   ]
  },
  {
   "cell_type": "code",
   "execution_count": 4,
   "id": "97b40530",
   "metadata": {},
   "outputs": [
    {
     "data": {
      "text/html": [
       "<div>\n",
       "<style scoped>\n",
       "    .dataframe tbody tr th:only-of-type {\n",
       "        vertical-align: middle;\n",
       "    }\n",
       "\n",
       "    .dataframe tbody tr th {\n",
       "        vertical-align: top;\n",
       "    }\n",
       "\n",
       "    .dataframe thead th {\n",
       "        text-align: right;\n",
       "    }\n",
       "</style>\n",
       "<table border=\"1\" class=\"dataframe\">\n",
       "  <thead>\n",
       "    <tr style=\"text-align: right;\">\n",
       "      <th></th>\n",
       "      <th>artist</th>\n",
       "      <th>song</th>\n",
       "      <th>text</th>\n",
       "    </tr>\n",
       "  </thead>\n",
       "  <tbody>\n",
       "    <tr>\n",
       "      <th>0</th>\n",
       "      <td>Fatboy Slim</td>\n",
       "      <td>Rush</td>\n",
       "      <td>We're alone, each with our very own lives to l...</td>\n",
       "    </tr>\n",
       "    <tr>\n",
       "      <th>1</th>\n",
       "      <td>Marillion</td>\n",
       "      <td>Neverland</td>\n",
       "      <td>When the darkness takes me over  \\r\\nFace down...</td>\n",
       "    </tr>\n",
       "    <tr>\n",
       "      <th>2</th>\n",
       "      <td>Bruce Springsteen</td>\n",
       "      <td>Look Toward The Land</td>\n",
       "      <td>Live performance  \\r\\nWell, I dreamed I was a ...</td>\n",
       "    </tr>\n",
       "    <tr>\n",
       "      <th>3</th>\n",
       "      <td>Avril Lavigne</td>\n",
       "      <td>Breakaway (Written For Kelly Clarkson)</td>\n",
       "      <td>Grew up in a small town,  \\r\\nAnd when the rai...</td>\n",
       "    </tr>\n",
       "    <tr>\n",
       "      <th>4</th>\n",
       "      <td>Madonna</td>\n",
       "      <td>God Is Love</td>\n",
       "      <td>If God is love and love is God  \\r\\nThen why'r...</td>\n",
       "    </tr>\n",
       "    <tr>\n",
       "      <th>5</th>\n",
       "      <td>Isley Brothers</td>\n",
       "      <td>Can I Have A Kiss (For Old Times' Sake)?</td>\n",
       "      <td>Start off with a hug, lead into embrace  \\r\\nO...</td>\n",
       "    </tr>\n",
       "    <tr>\n",
       "      <th>6</th>\n",
       "      <td>Elton John</td>\n",
       "      <td>I Can't Steer My Heart Clear Of You</td>\n",
       "      <td>Take me for granted, I think that I could stan...</td>\n",
       "    </tr>\n",
       "    <tr>\n",
       "      <th>7</th>\n",
       "      <td>Ramones</td>\n",
       "      <td>Come Back Baby</td>\n",
       "      <td>Well life's a drag without you  \\r\\nI found ou...</td>\n",
       "    </tr>\n",
       "    <tr>\n",
       "      <th>8</th>\n",
       "      <td>Pearl Jam</td>\n",
       "      <td>Around The Bend</td>\n",
       "      <td>I'm wishing you a well...mind at peace within ...</td>\n",
       "    </tr>\n",
       "    <tr>\n",
       "      <th>9</th>\n",
       "      <td>Paul Simon</td>\n",
       "      <td>Ace In The Hole</td>\n",
       "      <td>Some people say Jesus that's the ace in the ho...</td>\n",
       "    </tr>\n",
       "  </tbody>\n",
       "</table>\n",
       "</div>"
      ],
      "text/plain": [
       "              artist                                      song  \\\n",
       "0        Fatboy Slim                                      Rush   \n",
       "1          Marillion                                 Neverland   \n",
       "2  Bruce Springsteen                      Look Toward The Land   \n",
       "3      Avril Lavigne    Breakaway (Written For Kelly Clarkson)   \n",
       "4            Madonna                               God Is Love   \n",
       "5     Isley Brothers  Can I Have A Kiss (For Old Times' Sake)?   \n",
       "6         Elton John       I Can't Steer My Heart Clear Of You   \n",
       "7            Ramones                            Come Back Baby   \n",
       "8          Pearl Jam                           Around The Bend   \n",
       "9         Paul Simon                           Ace In The Hole   \n",
       "\n",
       "                                                text  \n",
       "0  We're alone, each with our very own lives to l...  \n",
       "1  When the darkness takes me over  \\r\\nFace down...  \n",
       "2  Live performance  \\r\\nWell, I dreamed I was a ...  \n",
       "3  Grew up in a small town,  \\r\\nAnd when the rai...  \n",
       "4  If God is love and love is God  \\r\\nThen why'r...  \n",
       "5  Start off with a hug, lead into embrace  \\r\\nO...  \n",
       "6  Take me for granted, I think that I could stan...  \n",
       "7  Well life's a drag without you  \\r\\nI found ou...  \n",
       "8  I'm wishing you a well...mind at peace within ...  \n",
       "9  Some people say Jesus that's the ace in the ho...  "
      ]
     },
     "execution_count": 4,
     "metadata": {},
     "output_type": "execute_result"
    }
   ],
   "source": [
    "df=df.sample(5000).drop('link',axis=1).reset_index(drop=True)\n",
    "df.head(10)"
   ]
  },
  {
   "cell_type": "code",
   "execution_count": 5,
   "id": "aa6c06a0",
   "metadata": {},
   "outputs": [
    {
     "data": {
      "text/plain": [
       "\"We're alone, each with our very own lives to lead,  \\r\\nwe carry our walls around in our pockets,  \\r\\nElectricity crackles and bricks turn to dust,  \\r\\nwhen you're there...  \\r\\n  \\r\\nI get a rush,  \\r\\nstraight to my head,  \\r\\nI get a rush.  \\r\\nI get a rush,  \\r\\ndown to my feet,  \\r\\nI get a rush.  \\r\\n  \\r\\nSee you there, standing with a secret smile on your face.  \\r\\nI am looking at my salvation.  \\r\\nHeal the broken hearts,  \\r\\nfeed the nation with love...  \\r\\n  \\r\\nA rush of wind...of blood through my veins and energy,  \\r\\nyou are here with me now and I love it.  \\r\\nTake me away...  \\r\\nFly with me\\r\\n\\r\\n\""
      ]
     },
     "execution_count": 5,
     "metadata": {},
     "output_type": "execute_result"
    }
   ],
   "source": [
    "df['text'][0]"
   ]
  },
  {
   "cell_type": "code",
   "execution_count": 6,
   "id": "21e2f818",
   "metadata": {},
   "outputs": [
    {
     "data": {
      "text/plain": [
       "(5000, 3)"
      ]
     },
     "execution_count": 6,
     "metadata": {},
     "output_type": "execute_result"
    }
   ],
   "source": [
    "df.shape"
   ]
  },
  {
   "cell_type": "markdown",
   "id": "a4d0c781",
   "metadata": {},
   "source": [
    "text cleaning /preprocessing"
   ]
  },
  {
   "cell_type": "code",
   "execution_count": 7,
   "id": "4477644c",
   "metadata": {},
   "outputs": [],
   "source": [
    "df['text']=df['text'].str.lower().replace(r'^\\w\\s',' ').replace(r'\\n', ' ',regex=True)"
   ]
  },
  {
   "cell_type": "code",
   "execution_count": 8,
   "id": "0a72aac9",
   "metadata": {},
   "outputs": [
    {
     "data": {
      "text/html": [
       "<div>\n",
       "<style scoped>\n",
       "    .dataframe tbody tr th:only-of-type {\n",
       "        vertical-align: middle;\n",
       "    }\n",
       "\n",
       "    .dataframe tbody tr th {\n",
       "        vertical-align: top;\n",
       "    }\n",
       "\n",
       "    .dataframe thead th {\n",
       "        text-align: right;\n",
       "    }\n",
       "</style>\n",
       "<table border=\"1\" class=\"dataframe\">\n",
       "  <thead>\n",
       "    <tr style=\"text-align: right;\">\n",
       "      <th></th>\n",
       "      <th>artist</th>\n",
       "      <th>song</th>\n",
       "      <th>text</th>\n",
       "    </tr>\n",
       "  </thead>\n",
       "  <tbody>\n",
       "    <tr>\n",
       "      <th>0</th>\n",
       "      <td>Fatboy Slim</td>\n",
       "      <td>Rush</td>\n",
       "      <td>we're alone, each with our very own lives to l...</td>\n",
       "    </tr>\n",
       "    <tr>\n",
       "      <th>1</th>\n",
       "      <td>Marillion</td>\n",
       "      <td>Neverland</td>\n",
       "      <td>when the darkness takes me over  \\r face down,...</td>\n",
       "    </tr>\n",
       "    <tr>\n",
       "      <th>2</th>\n",
       "      <td>Bruce Springsteen</td>\n",
       "      <td>Look Toward The Land</td>\n",
       "      <td>live performance  \\r well, i dreamed i was a g...</td>\n",
       "    </tr>\n",
       "    <tr>\n",
       "      <th>3</th>\n",
       "      <td>Avril Lavigne</td>\n",
       "      <td>Breakaway (Written For Kelly Clarkson)</td>\n",
       "      <td>grew up in a small town,  \\r and when the rain...</td>\n",
       "    </tr>\n",
       "    <tr>\n",
       "      <th>4</th>\n",
       "      <td>Madonna</td>\n",
       "      <td>God Is Love</td>\n",
       "      <td>if god is love and love is god  \\r then why're...</td>\n",
       "    </tr>\n",
       "    <tr>\n",
       "      <th>...</th>\n",
       "      <td>...</td>\n",
       "      <td>...</td>\n",
       "      <td>...</td>\n",
       "    </tr>\n",
       "    <tr>\n",
       "      <th>4995</th>\n",
       "      <td>Kyla</td>\n",
       "      <td>Say That You Love Me</td>\n",
       "      <td>my morning starts to shine with teardrops in m...</td>\n",
       "    </tr>\n",
       "    <tr>\n",
       "      <th>4996</th>\n",
       "      <td>Squeeze</td>\n",
       "      <td>Annie Get Your Gun</td>\n",
       "      <td>she goes for her medical  \\r she's passed, its...</td>\n",
       "    </tr>\n",
       "    <tr>\n",
       "      <th>4997</th>\n",
       "      <td>Leonard Cohen</td>\n",
       "      <td>Humbled In Love</td>\n",
       "      <td>do you remember all of those pledges  \\r that ...</td>\n",
       "    </tr>\n",
       "    <tr>\n",
       "      <th>4998</th>\n",
       "      <td>Radiohead</td>\n",
       "      <td>Tinker Tailor Soldier Sailor Rich Man Poor Man...</td>\n",
       "      <td>[verse 1]  \\r all the holes at once are coming...</td>\n",
       "    </tr>\n",
       "    <tr>\n",
       "      <th>4999</th>\n",
       "      <td>Our Lady Peace</td>\n",
       "      <td>Tomorrow Never Knows</td>\n",
       "      <td>listen to the color of your dreams...  \\r turn...</td>\n",
       "    </tr>\n",
       "  </tbody>\n",
       "</table>\n",
       "<p>5000 rows × 3 columns</p>\n",
       "</div>"
      ],
      "text/plain": [
       "                 artist                                               song  \\\n",
       "0           Fatboy Slim                                               Rush   \n",
       "1             Marillion                                          Neverland   \n",
       "2     Bruce Springsteen                               Look Toward The Land   \n",
       "3         Avril Lavigne             Breakaway (Written For Kelly Clarkson)   \n",
       "4               Madonna                                        God Is Love   \n",
       "...                 ...                                                ...   \n",
       "4995               Kyla                               Say That You Love Me   \n",
       "4996            Squeeze                                 Annie Get Your Gun   \n",
       "4997      Leonard Cohen                                    Humbled In Love   \n",
       "4998          Radiohead  Tinker Tailor Soldier Sailor Rich Man Poor Man...   \n",
       "4999     Our Lady Peace                               Tomorrow Never Knows   \n",
       "\n",
       "                                                   text  \n",
       "0     we're alone, each with our very own lives to l...  \n",
       "1     when the darkness takes me over  \\r face down,...  \n",
       "2     live performance  \\r well, i dreamed i was a g...  \n",
       "3     grew up in a small town,  \\r and when the rain...  \n",
       "4     if god is love and love is god  \\r then why're...  \n",
       "...                                                 ...  \n",
       "4995  my morning starts to shine with teardrops in m...  \n",
       "4996  she goes for her medical  \\r she's passed, its...  \n",
       "4997  do you remember all of those pledges  \\r that ...  \n",
       "4998  [verse 1]  \\r all the holes at once are coming...  \n",
       "4999  listen to the color of your dreams...  \\r turn...  \n",
       "\n",
       "[5000 rows x 3 columns]"
      ]
     },
     "execution_count": 8,
     "metadata": {},
     "output_type": "execute_result"
    }
   ],
   "source": [
    "df"
   ]
  },
  {
   "cell_type": "code",
   "execution_count": 9,
   "id": "cb262a1c",
   "metadata": {},
   "outputs": [],
   "source": [
    "import nltk\n",
    "from nltk.stem.porter import PorterStemmer\n"
   ]
  },
  {
   "cell_type": "code",
   "execution_count": 10,
   "id": "e3cf73f8",
   "metadata": {},
   "outputs": [
    {
     "name": "stderr",
     "output_type": "stream",
     "text": [
      "[nltk_data] Downloading package punkt to\n",
      "[nltk_data]     C:\\Users\\NEHA\\AppData\\Roaming\\nltk_data...\n",
      "[nltk_data]   Package punkt is already up-to-date!\n"
     ]
    },
    {
     "data": {
      "text/plain": [
       "True"
      ]
     },
     "execution_count": 10,
     "metadata": {},
     "output_type": "execute_result"
    }
   ],
   "source": [
    "#nltk.download('punkt')"
   ]
  },
  {
   "cell_type": "code",
   "execution_count": 11,
   "id": "cbf750c7",
   "metadata": {},
   "outputs": [],
   "source": [
    "stemmer = PorterStemmer()"
   ]
  },
  {
   "cell_type": "code",
   "execution_count": 12,
   "id": "c4e2c02b",
   "metadata": {},
   "outputs": [],
   "source": [
    "def token(txt):\n",
    "    token=nltk.word_tokenize(txt)\n",
    "    a=[stemmer.stem(w) for w in token]\n",
    "    return \" \".join(a)"
   ]
  },
  {
   "cell_type": "code",
   "execution_count": 13,
   "id": "6be45745",
   "metadata": {},
   "outputs": [
    {
     "data": {
      "text/plain": [
       "'you are beauti , beauti'"
      ]
     },
     "execution_count": 13,
     "metadata": {},
     "output_type": "execute_result"
    }
   ],
   "source": [
    "\n",
    "token(\"you are beautiful,beauty\")"
   ]
  },
  {
   "cell_type": "code",
   "execution_count": 14,
   "id": "dc8ea5b3",
   "metadata": {},
   "outputs": [
    {
     "data": {
      "text/plain": [
       "0       we 're alon , each with our veri own live to l...\n",
       "1       when the dark take me over face down , emptier...\n",
       "2       live perform well , i dream i wa a gypsi ride ...\n",
       "3       grew up in a small town , and when the rain wo...\n",
       "4       if god is love and love is god then whi 're yo...\n",
       "                              ...                        \n",
       "4995    my morn start to shine with teardrop in my eye...\n",
       "4996    she goe for her medic she 's pass , it ' a mir...\n",
       "4997    do you rememb all of those pledg that we pledg...\n",
       "4998    [ vers 1 ] all the hole at onc are come aliv ,...\n",
       "4999    listen to the color of your dream ... turn off...\n",
       "Name: text, Length: 5000, dtype: object"
      ]
     },
     "execution_count": 14,
     "metadata": {},
     "output_type": "execute_result"
    }
   ],
   "source": [
    "df['text'].apply(lambda x:token(x))"
   ]
  },
  {
   "cell_type": "code",
   "execution_count": 15,
   "id": "c46d0184",
   "metadata": {},
   "outputs": [],
   "source": [
    "from sklearn.feature_extraction.text import TfidfVectorizer\n",
    "from sklearn.metrics.pairwise import cosine_similarity"
   ]
  },
  {
   "cell_type": "code",
   "execution_count": 16,
   "id": "6d947ffb",
   "metadata": {},
   "outputs": [],
   "source": [
    "tfid= TfidfVectorizer(analyzer='word',stop_words='english')\n",
    "matrix=tfid.fit_transform(df['text'])"
   ]
  },
  {
   "cell_type": "code",
   "execution_count": 17,
   "id": "0ddbe199",
   "metadata": {},
   "outputs": [
    {
     "data": {
      "text/plain": [
       "array([1.        , 0.01754057, 0.        , ..., 0.01700916, 0.00844876,\n",
       "       0.01062014])"
      ]
     },
     "execution_count": 17,
     "metadata": {},
     "output_type": "execute_result"
    }
   ],
   "source": [
    "similarity=cosine_similarity(matrix)\n",
    "similarity[0]"
   ]
  },
  {
   "cell_type": "code",
   "execution_count": 19,
   "id": "0c4d2261",
   "metadata": {},
   "outputs": [
    {
     "data": {
      "text/plain": [
       "2"
      ]
     },
     "execution_count": 19,
     "metadata": {},
     "output_type": "execute_result"
    }
   ],
   "source": [
    "df[df['song']== 'Look Toward The Land'].index[0]"
   ]
  },
  {
   "cell_type": "markdown",
   "id": "09edd2ea",
   "metadata": {},
   "source": [
    "RECOMMENDER FUNCTION"
   ]
  },
  {
   "cell_type": "code",
   "execution_count": 23,
   "id": "5a6c689b",
   "metadata": {},
   "outputs": [],
   "source": [
    "def recommender(song_name):\n",
    "    idx=df[df['song']==song_name].index[0]\n",
    "    distance = sorted(list(enumerate(similarity[idx])),reverse=True,key=lambda x: x[1])\n",
    "    song=[]\n",
    "    for s_id in distance[1:21]:\n",
    "        song.append(df.iloc[s_id[0]].song)\n",
    "    return song"
   ]
  },
  {
   "cell_type": "code",
   "execution_count": 24,
   "id": "6226dd5e",
   "metadata": {},
   "outputs": [
    {
     "data": {
      "text/plain": [
       "['This Land Is Your Land',\n",
       " 'In The Land Of Make Believe',\n",
       " 'I Dreamed A Dream',\n",
       " \"Death Don't Have No Mercy\",\n",
       " 'A Night Like This',\n",
       " 'Coast To Coast',\n",
       " 'God Of The Sun',\n",
       " 'The River Must Flow',\n",
       " 'Stranger In A Strange Land',\n",
       " 'A Song For You',\n",
       " 'Wide River',\n",
       " 'Jenny Dreamed Of Trains',\n",
       " 'Land Ahoy',\n",
       " 'Detroit City',\n",
       " 'Jenny Dreamed Of Trains',\n",
       " 'Oh Look Around You',\n",
       " 'Common Mortal Man',\n",
       " 'Singing The Blues',\n",
       " 'Long Ago (And So Far Away)',\n",
       " 'Then They Do']"
      ]
     },
     "execution_count": 24,
     "metadata": {},
     "output_type": "execute_result"
    }
   ],
   "source": [
    "recommender(\"Look Toward The Land\")"
   ]
  },
  {
   "cell_type": "code",
   "execution_count": null,
   "id": "a2f70b2c",
   "metadata": {},
   "outputs": [],
   "source": []
  },
  {
   "cell_type": "code",
   "execution_count": 25,
   "id": "ef4ee1b7",
   "metadata": {},
   "outputs": [],
   "source": [
    "import pickle as pkl"
   ]
  },
  {
   "cell_type": "code",
   "execution_count": 29,
   "id": "e7c0d23b",
   "metadata": {},
   "outputs": [],
   "source": [
    "pkl.dump(similarity,open(\"similarity.pkl\" , \"wb\"))"
   ]
  },
  {
   "cell_type": "code",
   "execution_count": 28,
   "id": "ead46b42",
   "metadata": {},
   "outputs": [],
   "source": [
    "pkl.dump(df,open(\"df.pkl\",\"wb\"))"
   ]
  },
  {
   "cell_type": "code",
   "execution_count": null,
   "id": "5f4c1809",
   "metadata": {},
   "outputs": [],
   "source": []
  },
  {
   "cell_type": "code",
   "execution_count": null,
   "id": "d8e08e81",
   "metadata": {},
   "outputs": [],
   "source": []
  },
  {
   "cell_type": "code",
   "execution_count": null,
   "id": "8b34cd68",
   "metadata": {},
   "outputs": [],
   "source": []
  },
  {
   "cell_type": "code",
   "execution_count": null,
   "id": "9e778c39",
   "metadata": {},
   "outputs": [],
   "source": []
  }
 ],
 "metadata": {
  "kernelspec": {
   "display_name": "Python 3 (ipykernel)",
   "language": "python",
   "name": "python3"
  },
  "language_info": {
   "codemirror_mode": {
    "name": "ipython",
    "version": 3
   },
   "file_extension": ".py",
   "mimetype": "text/x-python",
   "name": "python",
   "nbconvert_exporter": "python",
   "pygments_lexer": "ipython3",
   "version": "3.11.5"
  }
 },
 "nbformat": 4,
 "nbformat_minor": 5
}
